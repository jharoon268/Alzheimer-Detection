{
 "cells": [
  {
   "cell_type": "code",
   "execution_count": 43,
   "id": "db5039eb",
   "metadata": {},
   "outputs": [],
   "source": [
    "# =============================\n",
    "# Cell 1 — Imports\n",
    "# =============================\n",
    "import os\n",
    "import random\n",
    "import numpy as np\n",
    "import pandas as pd\n",
    "import matplotlib.pyplot as plt\n",
    "import seaborn as sns\n",
    "\n",
    "from sklearn.model_selection import train_test_split\n",
    "from sklearn.preprocessing import StandardScaler\n",
    "from sklearn.metrics import confusion_matrix, classification_report, accuracy_score, f1_score, roc_curve, auc\n",
    "from sklearn.ensemble import RandomForestClassifier\n",
    "from sklearn.utils.class_weight import compute_class_weight\n",
    "from joblib import dump, load\n",
    "\n",
    "from tensorflow.keras.models import Sequential\n",
    "from tensorflow.keras.layers import Dense, Dropout\n",
    "from tensorflow.keras.callbacks import EarlyStopping"
   ]
  },
  {
   "cell_type": "code",
   "execution_count": 44,
   "id": "5fedbcd3",
   "metadata": {},
   "outputs": [],
   "source": [
    "# =============================\n",
    "# Cell 2 — Configuration\n",
    "# =============================\n",
    "DATA_DIR = \"D:/University/AI/Project/Alzheimer Speech Detection/data\"\n",
    "CSV_PATH = os.path.join(DATA_DIR, \"addetector_dataset.csv\")\n",
    "MODEL_DIR = \"D:/University/AI/Project/Alzheimer Speech Detection/models\"\n",
    "RESULTS_DIR = \"D:/University/AI/Project/Alzheimer Speech Detection/results\"\n",
    "RANDOM_STATE = 42\n",
    "\n",
    "os.makedirs(MODEL_DIR, exist_ok=True)\n",
    "os.makedirs(RESULTS_DIR, exist_ok=True)\n",
    "\n",
    "np.random.seed(RANDOM_STATE)\n",
    "random.seed(RANDOM_STATE)"
   ]
  },
  {
   "cell_type": "code",
   "execution_count": 45,
   "id": "bf526025",
   "metadata": {},
   "outputs": [
    {
     "name": "stdout",
     "output_type": "stream",
     "text": [
      "Data shape after dropping missing values: (1010, 66)\n",
      "Feature shape: (1010, 65) Labels shape: (1010,)\n",
      "Unique labels: [1 0]\n"
     ]
    }
   ],
   "source": [
    "# =============================\n",
    "# Cell 3 — Load & Inspect Data\n",
    "# =============================\n",
    "df = pd.read_csv(CSV_PATH)\n",
    "df = df.dropna()\n",
    "print(\"Data shape after dropping missing values:\", df.shape)\n",
    "X = df.drop(columns=['label'])\n",
    "y = df['label']\n",
    "\n",
    "print(\"Feature shape:\", X.shape, \"Labels shape:\", y.shape)\n",
    "print(\"Unique labels:\", y.unique())"
   ]
  },
  {
   "cell_type": "code",
   "execution_count": 46,
   "id": "96befd48",
   "metadata": {},
   "outputs": [],
   "source": [
    "\n",
    "# =============================\n",
    "# Cell 4 — Train/Test Split\n",
    "# =============================\n",
    "X_train, X_test, y_train, y_test = train_test_split(\n",
    "    X, y, test_size=0.2, random_state=RANDOM_STATE, stratify=y\n",
    ")"
   ]
  },
  {
   "cell_type": "code",
   "execution_count": 47,
   "id": "3873c517",
   "metadata": {},
   "outputs": [
    {
     "data": {
      "text/plain": [
       "['D:/University/AI/Project/Alzheimer Speech Detection/models\\\\scaler.joblib']"
      ]
     },
     "execution_count": 47,
     "metadata": {},
     "output_type": "execute_result"
    }
   ],
   "source": [
    "# =============================\n",
    "# Cell 5 — Feature Scaling\n",
    "# =============================\n",
    "scaler = StandardScaler()\n",
    "X_train_scaled = scaler.fit_transform(X_train)\n",
    "X_test_scaled = scaler.transform(X_test)\n",
    "dump(scaler, os.path.join(MODEL_DIR, \"scaler.joblib\"))"
   ]
  },
  {
   "cell_type": "code",
   "execution_count": 48,
   "id": "3940566d",
   "metadata": {},
   "outputs": [
    {
     "name": "stdout",
     "output_type": "stream",
     "text": [
      "Random Forest — Accuracy: 0.5396, F1-score: 0.2185\n",
      "              precision    recall  f1-score   support\n",
      "\n",
      "           0       0.55      0.86      0.67       112\n",
      "           1       0.45      0.14      0.22        90\n",
      "\n",
      "    accuracy                           0.54       202\n",
      "   macro avg       0.50      0.50      0.45       202\n",
      "weighted avg       0.51      0.54      0.47       202\n",
      "\n"
     ]
    },
    {
     "data": {
      "image/png": "[encoded data removed]",
      "text/plain": [
       "<Figure size 500x400 with 2 Axes>"
      ]
     },
     "metadata": {},
     "output_type": "display_data"
    },
    {
     "data": {
      "text/plain": [
       "['D:/University/AI/Project/Alzheimer Speech Detection/models\\\\rf_alz_model.joblib']"
      ]
     },
     "execution_count": 48,
     "metadata": {},
     "output_type": "execute_result"
    }
   ],
   "source": [
    "\n",
    "# =============================\n",
    "# Cell 6 — Random Forest\n",
    "# =============================\n",
    "# Handle class imbalance\n",
    "rf = RandomForestClassifier(n_estimators=200, random_state=RANDOM_STATE, class_weight='balanced')\n",
    "rf.fit(X_train_scaled, y_train)\n",
    "\n",
    "# Predictions\n",
    "y_pred_rf = rf.predict(X_test_scaled)\n",
    "y_prob_rf = rf.predict_proba(X_test_scaled)[:,1]\n",
    "\n",
    "# Evaluation\n",
    "acc_rf = accuracy_score(y_test, y_pred_rf)\n",
    "f1_rf = f1_score(y_test, y_pred_rf)\n",
    "print(f\"Random Forest — Accuracy: {acc_rf:.4f}, F1-score: {f1_rf:.4f}\")\n",
    "print(classification_report(y_test, y_pred_rf))\n",
    "\n",
    "# Confusion matrix\n",
    "plt.figure(figsize=(5,4))\n",
    "sns.heatmap(confusion_matrix(y_test, y_pred_rf), annot=True, fmt=\"d\", cmap=\"Blues\")\n",
    "plt.title(\"Confusion Matrix — Random Forest\")\n",
    "plt.xlabel(\"Predicted\")\n",
    "plt.ylabel(\"True\")\n",
    "plt.tight_layout()\n",
    "plt.savefig(os.path.join(RESULTS_DIR, \"confusion_matrix_rf.png\"))\n",
    "plt.show()\n",
    "\n",
    "dump(rf, os.path.join(MODEL_DIR, \"rf_alz_model.joblib\"))"
   ]
  },
  {
   "cell_type": "code",
   "execution_count": 49,
   "id": "4e6502fc",
   "metadata": {},
   "outputs": [
    {
     "name": "stderr",
     "output_type": "stream",
     "text": [
      "c:\\Users\\m\\AppData\\Local\\Programs\\Python\\Python313\\Lib\\site-packages\\keras\\src\\layers\\core\\dense.py:92: UserWarning: Do not pass an `input_shape`/`input_dim` argument to a layer. When using Sequential models, prefer using an `Input(shape)` object as the first layer in the model instead.\n",
      "  super().__init__(activity_regularizer=activity_regularizer, **kwargs)\n"
     ]
    },
    {
     "name": "stdout",
     "output_type": "stream",
     "text": [
      "Epoch 1/100\n",
      "\u001b[1m41/41\u001b[0m \u001b[32m━━━━━━━━━━━━━━━━━━━━\u001b[0m\u001b[37m\u001b[0m \u001b[1m13s\u001b[0m 43ms/step - accuracy: 0.5000 - loss: 0.7578 - val_accuracy: 0.5062 - val_loss: 0.7192\n",
      "Epoch 2/100\n",
      "\u001b[1m41/41\u001b[0m \u001b[32m━━━━━━━━━━━━━━━━━━━━\u001b[0m\u001b[37m\u001b[0m \u001b[1m1s\u001b[0m 14ms/step - accuracy: 0.5263 - loss: 0.6998 - val_accuracy: 0.5247 - val_loss: 0.7084\n",
      "Epoch 3/100\n",
      "\u001b[1m41/41\u001b[0m \u001b[32m━━━━━━━━━━━━━━━━━━━━\u001b[0m\u001b[37m\u001b[0m \u001b[1m1s\u001b[0m 11ms/step - accuracy: 0.6115 - loss: 0.6471 - val_accuracy: 0.5370 - val_loss: 0.7108\n",
      "Epoch 4/100\n",
      "\u001b[1m41/41\u001b[0m \u001b[32m━━━━━━━━━━━━━━━━━━━━\u001b[0m\u001b[37m\u001b[0m \u001b[1m1s\u001b[0m 11ms/step - accuracy: 0.6300 - loss: 0.6378 - val_accuracy: 0.5370 - val_loss: 0.7107\n",
      "Epoch 5/100\n",
      "\u001b[1m41/41\u001b[0m \u001b[32m━━━━━━━━━━━━━━━━━━━━\u001b[0m\u001b[37m\u001b[0m \u001b[1m1s\u001b[0m 12ms/step - accuracy: 0.6579 - loss: 0.6243 - val_accuracy: 0.5617 - val_loss: 0.7181\n",
      "Epoch 6/100\n",
      "\u001b[1m41/41\u001b[0m \u001b[32m━━━━━━━━━━━━━━━━━━━━\u001b[0m\u001b[37m\u001b[0m \u001b[1m1s\u001b[0m 11ms/step - accuracy: 0.6889 - loss: 0.5954 - val_accuracy: 0.5679 - val_loss: 0.7235\n",
      "Epoch 7/100\n",
      "\u001b[1m41/41\u001b[0m \u001b[32m━━━━━━━━━━━━━━━━━━━━\u001b[0m\u001b[37m\u001b[0m \u001b[1m4s\u001b[0m 79ms/step - accuracy: 0.7136 - loss: 0.5751 - val_accuracy: 0.5679 - val_loss: 0.7248\n",
      "Epoch 8/100\n",
      "\u001b[1m41/41\u001b[0m \u001b[32m━━━━━━━━━━━━━━━━━━━━\u001b[0m\u001b[37m\u001b[0m \u001b[1m1s\u001b[0m 20ms/step - accuracy: 0.7121 - loss: 0.5627 - val_accuracy: 0.5556 - val_loss: 0.7357\n",
      "Epoch 9/100\n",
      "\u001b[1m41/41\u001b[0m \u001b[32m━━━━━━━━━━━━━━━━━━━━\u001b[0m\u001b[37m\u001b[0m \u001b[1m1s\u001b[0m 14ms/step - accuracy: 0.7136 - loss: 0.5519 - val_accuracy: 0.5556 - val_loss: 0.7423\n",
      "Epoch 10/100\n",
      "\u001b[1m41/41\u001b[0m \u001b[32m━━━━━━━━━━━━━━━━━━━━\u001b[0m\u001b[37m\u001b[0m \u001b[1m1s\u001b[0m 13ms/step - accuracy: 0.7446 - loss: 0.5060 - val_accuracy: 0.5679 - val_loss: 0.7634\n",
      "Epoch 11/100\n",
      "\u001b[1m41/41\u001b[0m \u001b[32m━━━━━━━━━━━━━━━━━━━━\u001b[0m\u001b[37m\u001b[0m \u001b[1m1s\u001b[0m 11ms/step - accuracy: 0.7647 - loss: 0.4784 - val_accuracy: 0.5494 - val_loss: 0.7824\n",
      "Epoch 12/100\n",
      "\u001b[1m41/41\u001b[0m \u001b[32m━━━━━━━━━━━━━━━━━━━━\u001b[0m\u001b[37m\u001b[0m \u001b[1m0s\u001b[0m 10ms/step - accuracy: 0.7864 - loss: 0.4618 - val_accuracy: 0.5432 - val_loss: 0.8103\n",
      "WARNING:tensorflow:5 out of the last 15 calls to <function TensorFlowTrainer.make_predict_function.<locals>.one_step_on_data_distributed at 0x000001C1A7A125C0> triggered tf.function retracing. Tracing is expensive and the excessive number of tracings could be due to (1) creating @tf.function repeatedly in a loop, (2) passing tensors with different shapes, (3) passing Python objects instead of tensors. For (1), please define your @tf.function outside of the loop. For (2), @tf.function has reduce_retracing=True option that can avoid unnecessary retracing. For (3), please refer to https://www.tensorflow.org/guide/function#controlling_retracing and https://www.tensorflow.org/api_docs/python/tf/function for  more details.\n"
     ]
    },
    {
     "name": "stderr",
     "output_type": "stream",
     "text": [
      "WARNING:tensorflow:5 out of the last 15 calls to <function TensorFlowTrainer.make_predict_function.<locals>.one_step_on_data_distributed at 0x000001C1A7A125C0> triggered tf.function retracing. Tracing is expensive and the excessive number of tracings could be due to (1) creating @tf.function repeatedly in a loop, (2) passing tensors with different shapes, (3) passing Python objects instead of tensors. For (1), please define your @tf.function outside of the loop. For (2), @tf.function has reduce_retracing=True option that can avoid unnecessary retracing. For (3), please refer to https://www.tensorflow.org/guide/function#controlling_retracing and https://www.tensorflow.org/api_docs/python/tf/function for  more details.\n"
     ]
    },
    {
     "name": "stdout",
     "output_type": "stream",
     "text": [
      "\u001b[1m7/7\u001b[0m \u001b[32m━━━━━━━━━━━━━━━━━━━━\u001b[0m\u001b[37m\u001b[0m \u001b[1m0s\u001b[0m 40ms/step\n"
     ]
    },
    {
     "name": "stderr",
     "output_type": "stream",
     "text": [
      "WARNING:absl:You are saving your model as an HDF5 file via `model.save()` or `keras.saving.save_model(model)`. This file format is considered legacy. We recommend using instead the native Keras format, e.g. `model.save('my_model.keras')` or `keras.saving.save_model(model, 'my_model.keras')`. \n"
     ]
    },
    {
     "name": "stdout",
     "output_type": "stream",
     "text": [
      "Neural Network — Accuracy: 0.5743, F1-score: 0.1731\n",
      "              precision    recall  f1-score   support\n",
      "\n",
      "           0       0.57      0.96      0.71       112\n",
      "           1       0.64      0.10      0.17        90\n",
      "\n",
      "    accuracy                           0.57       202\n",
      "   macro avg       0.61      0.53      0.44       202\n",
      "weighted avg       0.60      0.57      0.47       202\n",
      "\n"
     ]
    }
   ],
   "source": [
    "\n",
    "# =============================\n",
    "# Cell 7 — Neural Network\n",
    "# =============================\n",
    "nn_model = Sequential([\n",
    "    Dense(128, input_shape=(X_train_scaled.shape[1],), activation='relu'),\n",
    "    Dropout(0.3),\n",
    "    Dense(64, activation='relu'),\n",
    "    Dropout(0.3),\n",
    "    Dense(1, activation='sigmoid')\n",
    "])\n",
    "nn_model.compile(optimizer='adam', loss='binary_crossentropy', metrics=['accuracy'])\n",
    "\n",
    "early_stop = EarlyStopping(monitor='val_loss', patience=10, restore_best_weights=True)\n",
    "nn_model.fit(\n",
    "    X_train_scaled, y_train,\n",
    "    validation_split=0.2,\n",
    "    epochs=100,\n",
    "    batch_size=16,\n",
    "    callbacks=[early_stop],\n",
    "    verbose=1\n",
    ")\n",
    "\n",
    "# Evaluate NN\n",
    "y_prob_nn = nn_model.predict(X_test_scaled).flatten()\n",
    "nn_threshold = 0.6  # adjustable to reduce false positives\n",
    "y_pred_nn = (y_prob_nn > nn_threshold).astype(int)\n",
    "\n",
    "acc_nn = accuracy_score(y_test, y_pred_nn)\n",
    "f1_nn = f1_score(y_test, y_pred_nn)\n",
    "print(f\"Neural Network — Accuracy: {acc_nn:.4f}, F1-score: {f1_nn:.4f}\")\n",
    "print(classification_report(y_test, y_pred_nn))\n",
    "\n",
    "nn_model.save(os.path.join(MODEL_DIR, \"nn_alz_model.h5\"))"
   ]
  },
  {
   "cell_type": "code",
   "execution_count": 50,
   "id": "a53b892c",
   "metadata": {},
   "outputs": [
    {
     "data": {
      "image/png": "[encoded data removed]",
      "text/plain": [
       "<Figure size 600x500 with 1 Axes>"
      ]
     },
     "metadata": {},
     "output_type": "display_data"
    }
   ],
   "source": [
    "# =============================\n",
    "# Cell 8 — ROC Curve\n",
    "# =============================\n",
    "fpr_rf, tpr_rf, _ = roc_curve(y_test, y_prob_rf)\n",
    "roc_auc_rf = auc(fpr_rf, tpr_rf)\n",
    "\n",
    "fpr_nn, tpr_nn, _ = roc_curve(y_test, y_prob_nn)\n",
    "roc_auc_nn = auc(fpr_nn, tpr_nn)\n",
    "\n",
    "plt.figure(figsize=(6,5))\n",
    "plt.plot(fpr_rf, tpr_rf, label=f'RF (AUC = {roc_auc_rf:.2f})')\n",
    "plt.plot(fpr_nn, tpr_nn, label=f'NN (AUC = {roc_auc_nn:.2f})')\n",
    "plt.plot([0,1],[0,1],'r--')\n",
    "plt.xlabel(\"False Positive Rate\")\n",
    "plt.ylabel(\"True Positive Rate\")\n",
    "plt.title(\"ROC Curve\")\n",
    "plt.legend()\n",
    "plt.tight_layout()\n",
    "plt.savefig(os.path.join(RESULTS_DIR, \"roc_curve.png\"))\n",
    "plt.show()\n"
   ]
  },
  {
   "cell_type": "code",
   "execution_count": 51,
   "id": "869a9622",
   "metadata": {},
   "outputs": [],
   "source": [
    "\n",
    "# =============================\n",
    "# Cell 9 — Ensemble Prediction Function\n",
    "# =============================\n",
    "def predict_alzheimer(features_raw, scaler, rf_model, nn_model, rf_threshold=0.6, nn_threshold=0.6):\n",
    "    \"\"\"\n",
    "    Input: features_raw -> 1D numpy array of length 65\n",
    "    Returns: final prediction label ('Healthy' or 'Alzheimer') and confidences\n",
    "    \"\"\"\n",
    "    # Scale features\n",
    "    features_scaled = scaler.transform([features_raw])\n",
    "\n",
    "    # Random Forest\n",
    "    rf_prob = rf_model.predict_proba(features_scaled)[0][1]\n",
    "    rf_pred = int(rf_prob > rf_threshold)\n",
    "\n",
    "    # Neural Network\n",
    "    nn_prob = nn_model.predict(features_scaled)[0][0]\n",
    "    nn_pred = int(nn_prob > nn_threshold)\n",
    "\n",
    "    # Ensemble: majority vote with confidence tie-break\n",
    "    if rf_pred != nn_pred:\n",
    "        final_pred = rf_pred if rf_prob > nn_prob else nn_pred\n",
    "    else:\n",
    "        final_pred = rf_pred\n",
    "\n",
    "    label_map = {0: \"Healthy\", 1: \"Alzheimer\"}\n",
    "    return label_map[final_pred], rf_prob, nn_prob"
   ]
  },
  {
   "cell_type": "code",
   "execution_count": 52,
   "id": "d3b56aa8",
   "metadata": {},
   "outputs": [
    {
     "data": {
      "text/plain": [
       "'\\n# =============================\\n# Cell 10 — Simple Neural Network\\n# =============================\\nos.makedirs(\"D:/University/AI/Alzheimer Speech Detection/results\", exist_ok=True)\\n\\nnum_classes = len(y.unique())\\ny_train_nn = to_categorical(y_train)\\ny_test_nn = to_categorical(y_test)\\n\\nmodel = Sequential([\\n    Dense(128, input_shape=(X_train_scaled.shape[1],), activation=\\'relu\\'),\\n    Dropout(0.3),\\n    Dense(64, activation=\\'relu\\'),\\n    Dropout(0.3),\\n    Dense(num_classes, activation=\\'softmax\\')\\n])\\n\\nmodel.compile(optimizer=\\'adam\\', loss=\\'categorical_crossentropy\\', metrics=[\\'accuracy\\'])\\nmodel.summary()\\n\\n# Early stopping\\nes = EarlyStopping(monitor=\\'val_loss\\', patience=10, restore_best_weights=True)\\n\\nhistory = model.fit(\\n    X_train_scaled, y_train_nn,\\n    validation_split=0.2,\\n    epochs=100,\\n    batch_size=16,\\n    callbacks=[es],\\n    verbose=1\\n)\\n'"
      ]
     },
     "execution_count": 52,
     "metadata": {},
     "output_type": "execute_result"
    }
   ],
   "source": [
    "\"\"\"\n",
    "# =============================\n",
    "# Cell 10 — Simple Neural Network\n",
    "# =============================\n",
    "os.makedirs(\"D:/University/AI/Alzheimer Speech Detection/results\", exist_ok=True)\n",
    "\n",
    "num_classes = len(y.unique())\n",
    "y_train_nn = to_categorical(y_train)\n",
    "y_test_nn = to_categorical(y_test)\n",
    "\n",
    "model = Sequential([\n",
    "    Dense(128, input_shape=(X_train_scaled.shape[1],), activation='relu'),\n",
    "    Dropout(0.3),\n",
    "    Dense(64, activation='relu'),\n",
    "    Dropout(0.3),\n",
    "    Dense(num_classes, activation='softmax')\n",
    "])\n",
    "\n",
    "model.compile(optimizer='adam', loss='categorical_crossentropy', metrics=['accuracy'])\n",
    "model.summary()\n",
    "\n",
    "# Early stopping\n",
    "es = EarlyStopping(monitor='val_loss', patience=10, restore_best_weights=True)\n",
    "\n",
    "history = model.fit(\n",
    "    X_train_scaled, y_train_nn,\n",
    "    validation_split=0.2,\n",
    "    epochs=100,\n",
    "    batch_size=16,\n",
    "    callbacks=[es],\n",
    "    verbose=1\n",
    ")\n",
    "\"\"\""
   ]
  },
  {
   "cell_type": "code",
   "execution_count": 53,
   "id": "31284ee5",
   "metadata": {},
   "outputs": [
    {
     "data": {
      "text/plain": [
       "'\\n# =============================\\n# Cell 11 — Evaluate Neural Network\\n# =============================\\nloss, acc = model.evaluate(X_test_scaled, y_test_nn)\\nprint(f\"🎯 Neural Network Accuracy: {acc:.4f}\")\\n\\n# Confusion Matrix\\ny_pred_nn = np.argmax(model.predict(X_test_scaled), axis=1)\\ncm = confusion_matrix(y_test, y_pred_nn)\\nplt.figure(figsize=(5, 4))\\nsns.heatmap(cm, annot=True, fmt=\\'d\\', cmap=\\'Purples\\')\\nplt.title(\"Confusion Matrix — Neural Network\")\\nplt.xlabel(\"Predicted\")\\nplt.ylabel(\"True\")\\nplt.tight_layout()\\nplt.savefig(\"D:/University/AI/Project/Alzheimer Speech Detection/results/confusion_matrix_nn.png\")\\nplt.show()\\n\\n# Plot training history\\nplt.figure(figsize=(6, 4))\\nplt.plot(history.history[\\'accuracy\\'], label=\\'Train Acc\\')\\nplt.plot(history.history[\\'val_accuracy\\'], label=\\'Val Acc\\')\\nplt.title(\"Training History — Neural Network\")\\nplt.xlabel(\"Epochs\")\\nplt.ylabel(\"Accuracy\")\\nplt.legend()\\nplt.tight_layout()\\nplt.savefig(\"D:/University/AI/Project/Alzheimer Speech Detection/results/training_history_nn.png\")\\nplt.show()\\n\\nmodel.save(\"D:/University/AI/Project/Alzheimer Speech Detection/models/nn_alz_model.h5\")\\nprint(\"✅ Neural Network model saved!\")\\n'"
      ]
     },
     "execution_count": 53,
     "metadata": {},
     "output_type": "execute_result"
    }
   ],
   "source": [
    "\"\"\"\n",
    "# =============================\n",
    "# Cell 11 — Evaluate Neural Network\n",
    "# =============================\n",
    "loss, acc = model.evaluate(X_test_scaled, y_test_nn)\n",
    "print(f\"🎯 Neural Network Accuracy: {acc:.4f}\")\n",
    "\n",
    "# Confusion Matrix\n",
    "y_pred_nn = np.argmax(model.predict(X_test_scaled), axis=1)\n",
    "cm = confusion_matrix(y_test, y_pred_nn)\n",
    "plt.figure(figsize=(5, 4))\n",
    "sns.heatmap(cm, annot=True, fmt='d', cmap='Purples')\n",
    "plt.title(\"Confusion Matrix — Neural Network\")\n",
    "plt.xlabel(\"Predicted\")\n",
    "plt.ylabel(\"True\")\n",
    "plt.tight_layout()\n",
    "plt.savefig(\"D:/University/AI/Project/Alzheimer Speech Detection/results/confusion_matrix_nn.png\")\n",
    "plt.show()\n",
    "\n",
    "# Plot training history\n",
    "plt.figure(figsize=(6, 4))\n",
    "plt.plot(history.history['accuracy'], label='Train Acc')\n",
    "plt.plot(history.history['val_accuracy'], label='Val Acc')\n",
    "plt.title(\"Training History — Neural Network\")\n",
    "plt.xlabel(\"Epochs\")\n",
    "plt.ylabel(\"Accuracy\")\n",
    "plt.legend()\n",
    "plt.tight_layout()\n",
    "plt.savefig(\"D:/University/AI/Project/Alzheimer Speech Detection/results/training_history_nn.png\")\n",
    "plt.show()\n",
    "\n",
    "model.save(\"D:/University/AI/Project/Alzheimer Speech Detection/models/nn_alz_model.h5\")\n",
    "print(\"✅ Neural Network model saved!\")\n",
    "\"\"\""
   ]
  },
  {
   "cell_type": "code",
   "execution_count": 54,
   "id": "b98764d1",
   "metadata": {},
   "outputs": [
    {
     "data": {
      "text/plain": [
       "'\\n# =============================\\n# Cell 13 — Save Accuracies\\n# =============================\\n\\n\\naccuracies = {\\n    \"random_forest\": acc_rf,\\n    \"neural_network\": acc\\n}\\n\\nos.makedirs(\"D:/University/AI/Project/Alzheimer Speech Detection/models\", exist_ok=True)\\nwith open(\"D:/University/AI/Project/Alzheimer Speech Detection/models/accuracies.json\", \"w\") as f:\\n    json.dump(accuracies, f)\\n\\nprint(\"✅ Model accuracies saved to ../models/accuracies.json\")\\n'"
      ]
     },
     "execution_count": 54,
     "metadata": {},
     "output_type": "execute_result"
    }
   ],
   "source": [
    "\"\"\"\n",
    "# =============================\n",
    "# Cell 13 — Save Accuracies\n",
    "# =============================\n",
    "\n",
    "\n",
    "accuracies = {\n",
    "    \"random_forest\": acc_rf,\n",
    "    \"neural_network\": acc\n",
    "}\n",
    "\n",
    "os.makedirs(\"D:/University/AI/Project/Alzheimer Speech Detection/models\", exist_ok=True)\n",
    "with open(\"D:/University/AI/Project/Alzheimer Speech Detection/models/accuracies.json\", \"w\") as f:\n",
    "    json.dump(accuracies, f)\n",
    "\n",
    "print(\"✅ Model accuracies saved to ../models/accuracies.json\")\n",
    "\"\"\""
   ]
  }
 ],
 "metadata": {
  "kernelspec": {
   "display_name": "Python 3",
   "language": "python",
   "name": "python3"
  },
  "language_info": {
   "codemirror_mode": {
    "name": "ipython",
    "version": 3
   },
   "file_extension": ".py",
   "mimetype": "text/x-python",
   "name": "python",
   "nbconvert_exporter": "python",
   "pygments_lexer": "ipython3",
   "version": "3.13.7"
  }
 },
 "nbformat": 4,
 "nbformat_minor": 5
}
